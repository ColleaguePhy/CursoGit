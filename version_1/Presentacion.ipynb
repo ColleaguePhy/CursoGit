{
 "cells": [
  {
   "cell_type": "markdown",
   "metadata": {
    "slideshow": {
     "slide_type": "slide"
    }
   },
   "source": [
    "<center> <h1> ¿Git-GitHub?</h1>   "
   ]
  },
  {
   "cell_type": "markdown",
   "metadata": {
    "slideshow": {
     "slide_type": "slide"
    }
   },
   "source": [
    "<center> <h2> Agenda </h2> </center>\n",
    "\n",
    "* ¿Porque Git?\n",
    "* Control de versiones\n",
    "* Instalación\n",
    "* Repositorios\n",
    "    * Local\n",
    "    * Centralizado\n",
    "    * Remoto (GitHub)\n"
   ]
  },
  {
   "cell_type": "markdown",
   "metadata": {
    "slideshow": {
     "slide_type": "slide"
    }
   },
   "source": [
    "<center> <h3> ¿Porque Git-GitHub? </h3> </center>\n",
    "\n",
    "<center>\n",
    "<img src=\"Imagenes/Final_doc.png\" width=30%>\n",
    "</center>"
   ]
  },
  {
   "cell_type": "markdown",
   "metadata": {
    "slideshow": {
     "slide_type": "slide"
    }
   },
   "source": [
    "<h2><center> Control de versiones </center></h2>\n",
    "\n",
    "Es un sistema que registra los cambios en un archivos o un conjunto de archivos en el tiempo de manera que podamos obtener versiones específicas después.\n",
    "* Permite regresar un archivo a su estado anterior.\n",
    "* Revertir todo el proceso a un estado anterior.\n",
    "* Comparar cambios en el tiempo.\n",
    "* Ver quien modifico el archivo."
   ]
  },
  {
   "cell_type": "markdown",
   "metadata": {
    "slideshow": {
     "slide_type": "slide"
    }
   },
   "source": [
    "<h2><center> Instalación </center></h2>\n",
    "\n",
    "#### Git desde la terminal\n",
    "**Linux** \n",
    "\n",
    "Se puede instalar ejecutando desde la terminal\n",
    "`sudo apt-get install git`\n",
    "\n",
    "**Mac y Windows** \n",
    "\n",
    "Se puede instalar consultando el siguiente [enlace.](https://git-scm.com/downloads)\n"
   ]
  },
  {
   "cell_type": "markdown",
   "metadata": {
    "slideshow": {
     "slide_type": "subslide"
    }
   },
   "source": [
    "**Git desde una interfaz**\n",
    "\n",
    "Una interfaz de Git es [kraken](https://www.gitkraken.com/)\n",
    "\n",
    "**Nota:** Lo más importante a recordar es que **Git** es distribuido, por lo que tendremos un repositorio local que vive en un directorio oculto llamado **.git/** y normalmente (aunque no es obligación) tendremos un remoto, un repositorio central dende diferentes colaboradores pueden contribuir.\n",
    "\n",
    "Notando que cada uno de esos colaboradores tienen una copia exacta del repositorio en su estación de trabajo."
   ]
  },
  {
   "cell_type": "markdown",
   "metadata": {
    "slideshow": {
     "slide_type": "slide"
    }
   },
   "source": [
    "<h2><center> Repositorios </center></h2>\n",
    "<h3><center> Local </center></h3>\n",
    "<center>\n",
    "<img src=\"Imagenes/local_vcs.png\" width=50%>\n",
    "</center>"
   ]
  },
  {
   "cell_type": "markdown",
   "metadata": {
    "slideshow": {
     "slide_type": "subslide"
    }
   },
   "source": [
    "<h3><center> Centralizado </center></h3>\n",
    "<center>\n",
    "<img src=\"Imagenes/centralized_vcs.png\" width=50%>\n",
    "</center>"
   ]
  },
  {
   "cell_type": "markdown",
   "metadata": {
    "slideshow": {
     "slide_type": "subslide"
    }
   },
   "source": [
    "<h3><center> Distribuido </center></h3>\n",
    "<center> \n",
    "<img src=\"Imagenes/distributed_vcs.png\" width=40%>\n",
    "</center>"
   ]
  },
  {
   "cell_type": "markdown",
   "metadata": {
    "slideshow": {
     "slide_type": "slide"
    }
   },
   "source": [
    "<h3><center> Repositorio local </center></h3>\n",
    "\n",
    "Git tiene tres estados principales donde estarán los archivos: *committed*, *staged* y *modified*\n",
    "* <span style=\"color:red\">**Modificado**</span> (*modified*) cambia un archivo pero no lo hemos guardado en la base de datos.\n",
    "* <span style=\"color:green\">**Preparado**</span> (*staged*) marcamos un archivo modificado en su versiónactual para guardarlo en la base de datos.\n",
    "* <span style=\"color:gray\">**Confirmado**</span> (*committed*) los datos están guardados en la base de datos local"
   ]
  },
  {
   "cell_type": "markdown",
   "metadata": {
    "slideshow": {
     "slide_type": "subslide"
    }
   },
   "source": [
    "### Directorios \n",
    "<center>\n",
    "<img src=\"Imagenes/3_states.png\" width=40%>\n",
    "</center>\n"
   ]
  },
  {
   "cell_type": "markdown",
   "metadata": {
    "slideshow": {
     "slide_type": "subslide"
    }
   },
   "source": [
    "* El **directorio de trabajo** es donde estoy trabajando en los archivos, en una versión especifica del proyecto.\n",
    "* El **área de preparación** es un área virtual, que guarda la información de los cambios que el usuario pretende registrar como una nueva versión.\n",
    "* El **Repositorio Git** es donde Git guarda los metadatos, en descir el registro de los cambios y las versiones del proyecto que se han decidido salvar."
   ]
  },
  {
   "cell_type": "markdown",
   "metadata": {
    "slideshow": {
     "slide_type": "subslide"
    }
   },
   "source": [
    "### Ramas\n",
    "A partir de una base común podemos crear ramas para cada nueva funcionalidad, la idea con separar el proyecto en múltiples ramas es encapsular los cambios y hace más difícil  que código inestable se mezcle con la rama principal.\n",
    "\n",
    "<center>\n",
    "<img src=\"Imagenes/branch.png\" width=50%>\n",
    "</center>"
   ]
  },
  {
   "cell_type": "markdown",
   "metadata": {
    "slideshow": {
     "slide_type": "subslide"
    }
   },
   "source": [
    "### Merge\n",
    "Un merge es la forma de unir la historia de ramas separadas e integrarlas en una sola rama. Git automáticamente une los commits a menos que existan conflictos en ambas ramas.\n",
    "\n",
    "<center>\n",
    "<img src=\"Imagenes/merge.png\" width=50%>\n",
    "</center>"
   ]
  },
  {
   "cell_type": "markdown",
   "metadata": {
    "slideshow": {
     "slide_type": "slide"
    }
   },
   "source": [
    "### GitHub\n",
    "Es una plataforma para control de versiones y colaboración. Permite que múltiples personas puedan trabajar en proyectos.\n",
    "##### Características\n",
    "* Múltiples empresas y universidades comparten sus desarrollos.\n",
    "* Es totalmente gratis siempre y cuando el acceso sea público.\n",
    "* Podemos subir coaulquier tipo de elementos, no sólo código.\n",
    "* Podemos conocer las mejores prácticas en cualquier lenguaje."
   ]
  }
 ],
 "metadata": {
  "celltoolbar": "Slideshow",
  "kernelspec": {
   "display_name": "Python 3",
   "language": "python",
   "name": "python3"
  },
  "language_info": {
   "codemirror_mode": {
    "name": "ipython",
    "version": 3
   },
   "file_extension": ".py",
   "mimetype": "text/x-python",
   "name": "python",
   "nbconvert_exporter": "python",
   "pygments_lexer": "ipython3",
   "version": "3.8.3"
  }
 },
 "nbformat": 4,
 "nbformat_minor": 4
}
